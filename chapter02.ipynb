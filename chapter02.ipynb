{
 "cells": [
  {
   "cell_type": "markdown",
   "metadata": {},
   "source": [
    "# 2.3 통계학에서의 표본분포"
   ]
  },
  {
   "cell_type": "code",
   "execution_count": 3,
   "metadata": {},
   "outputs": [
    {
     "name": "stdout",
     "output_type": "stream",
     "text": [
      "package 'boot' successfully unpacked and MD5 sums checked\n",
      "\n",
      "The downloaded binary packages are in\n",
      "\tC:\\Users\\LG\\AppData\\Local\\Temp\\RtmpWyn0Ji\\downloaded_packages\n"
     ]
    }
   ],
   "source": [
    "install.packages(\"boot\", dependencies=TRUE)"
   ]
  },
  {
   "cell_type": "code",
   "execution_count": 4,
   "metadata": {},
   "outputs": [
    {
     "name": "stderr",
     "output_type": "stream",
     "text": [
      "Warning message:\n",
      "\"package 'boot' was built under R version 3.6.3\"Warning message:\n",
      "\"package 'ggplot2' was built under R version 3.6.3\""
     ]
    }
   ],
   "source": [
    "library(boot)\n",
    "library(ggplot2)\n",
    "\n",
    "loans_income <- read.csv(file=\"raw_data/loans_income.csv\")[,1]\n",
    "sp500_px <- read.csv(file=\"raw_data/sp500_px.csv\")"
   ]
  },
  {
   "cell_type": "code",
   "execution_count": 5,
   "metadata": {},
   "outputs": [
    {
     "data": {
      "image/png": "[encoded data removed]",
      "text/plain": [
       "plot without title"
      ]
     },
     "metadata": {},
     "output_type": "display_data"
    }
   ],
   "source": [
    "# take a simple random sample\n",
    "samp_data <- data.frame(income=sample(loans_income, 1000), \n",
    "                        type='data_dist')\n",
    "# take a sample of means of 5 values\n",
    "samp_mean_05 <- data.frame(\n",
    "  income = tapply(sample(loans_income, 1000*5), \n",
    "                  rep(1:1000, rep(5, 1000)), FUN=mean),\n",
    "  type = 'mean_of_5')\n",
    "# take a sample of means of 20 values\n",
    "samp_mean_20 <- data.frame(\n",
    "  income = tapply(sample(loans_income, 1000*20), \n",
    "                  rep(1:1000, rep(20, 1000)), FUN=mean),\n",
    "  type = 'mean_of_20')\n",
    "# bind the data.frames and convert type to a factor\n",
    "income <- rbind(samp_data, samp_mean_05, samp_mean_20)\n",
    "income$type = factor(income$type, \n",
    "                     levels=c('data_dist', 'mean_of_5', 'mean_of_20'),\n",
    "                     labels=c('Data', 'Mean of 5', 'Mean of 20'))\n",
    "# plot the histograms\n",
    "ggplot(income, aes(x=income)) +\n",
    "  geom_histogram(bins=40) +\n",
    "  facet_grid(type ~ .)"
   ]
  },
  {
   "cell_type": "markdown",
   "metadata": {},
   "source": [
    "# 2.4 부트스트랩"
   ]
  },
  {
   "cell_type": "code",
   "execution_count": 6,
   "metadata": {},
   "outputs": [],
   "source": [
    "stat_fun <- function(x, idx) median(x[idx])\n",
    "boot_obj <- boot(loans_income, R = 1000, statistic=stat_fun)"
   ]
  },
  {
   "cell_type": "code",
   "execution_count": 7,
   "metadata": {},
   "outputs": [
    {
     "data": {
      "text/plain": [
       "\n",
       "ORDINARY NONPARAMETRIC BOOTSTRAP\n",
       "\n",
       "\n",
       "Call:\n",
       "boot(data = loans_income, statistic = stat_fun, R = 1000)\n",
       "\n",
       "\n",
       "Bootstrap Statistics :\n",
       "    original  bias    std. error\n",
       "t1*    62000 -73.941    213.8526"
      ]
     },
     "metadata": {},
     "output_type": "display_data"
    }
   ],
   "source": [
    "boot_obj"
   ]
  },
  {
   "cell_type": "code",
   "execution_count": null,
   "metadata": {},
   "outputs": [],
   "source": []
  }
 ],
 "metadata": {
  "kernelspec": {
   "display_name": "R",
   "language": "R",
   "name": "ir"
  },
  "language_info": {
   "codemirror_mode": "r",
   "file_extension": ".r",
   "mimetype": "text/x-r-source",
   "name": "R",
   "pygments_lexer": "r",
   "version": "3.6.1"
  }
 },
 "nbformat": 4,
 "nbformat_minor": 4
}

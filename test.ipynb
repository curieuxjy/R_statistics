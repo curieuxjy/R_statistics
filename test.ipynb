{
 "cells": [
  {
   "cell_type": "code",
   "execution_count": 13,
   "metadata": {},
   "outputs": [
    {
     "name": "stderr",
     "output_type": "stream",
     "text": [
      "also installing the dependencies 'pillar', 'profmem', 'blob', 'DBI', 'glue', 'lifecycle', 'rlang', 'tibble', 'tidyselect', 'vctrs', 'bench', 'broom', 'dbplyr', 'Lahman', 'lobstr', 'microbenchmark', 'nycflights13', 'RMySQL', 'RPostgreSQL', 'RSQLite'\n",
      "\n"
     ]
    },
    {
     "name": "stdout",
     "output_type": "stream",
     "text": [
      "package 'pillar' successfully unpacked and MD5 sums checked\n",
      "package 'profmem' successfully unpacked and MD5 sums checked\n",
      "package 'blob' successfully unpacked and MD5 sums checked\n",
      "package 'DBI' successfully unpacked and MD5 sums checked\n",
      "package 'glue' successfully unpacked and MD5 sums checked\n",
      "package 'lifecycle' successfully unpacked and MD5 sums checked\n",
      "package 'rlang' successfully unpacked and MD5 sums checked\n"
     ]
    },
    {
     "name": "stderr",
     "output_type": "stream",
     "text": [
      "Warning message:\n",
      "\"cannot remove prior installation of package 'rlang'\"Warning message in file.copy(savedcopy, lib, recursive = TRUE):\n",
      "\"D:\\Installation\\Anaconda3\\envs\\r\\lib\\R\\library\\00LOCK\\rlang\\libs\\x64\\rlang.dll를 D:\\Installation\\Anaconda3\\envs\\r\\lib\\R\\library\\rlang\\libs\\x64\\rlang.dll로 복사하는데 문제가 발생했습니다: Permission denied\"Warning message:\n",
      "\"restored 'rlang'\""
     ]
    },
    {
     "name": "stdout",
     "output_type": "stream",
     "text": [
      "package 'tibble' successfully unpacked and MD5 sums checked\n",
      "package 'tidyselect' successfully unpacked and MD5 sums checked\n",
      "package 'vctrs' successfully unpacked and MD5 sums checked\n",
      "package 'bench' successfully unpacked and MD5 sums checked\n",
      "package 'broom' successfully unpacked and MD5 sums checked\n",
      "package 'dbplyr' successfully unpacked and MD5 sums checked\n",
      "package 'Lahman' successfully unpacked and MD5 sums checked\n",
      "package 'lobstr' successfully unpacked and MD5 sums checked\n",
      "package 'microbenchmark' successfully unpacked and MD5 sums checked\n",
      "package 'nycflights13' successfully unpacked and MD5 sums checked\n",
      "package 'RMySQL' successfully unpacked and MD5 sums checked\n",
      "package 'RPostgreSQL' successfully unpacked and MD5 sums checked\n",
      "package 'RSQLite' successfully unpacked and MD5 sums checked\n",
      "package 'dplyr' successfully unpacked and MD5 sums checked\n",
      "\n",
      "The downloaded binary packages are in\n",
      "\tC:\\Users\\LG\\AppData\\Local\\Temp\\RtmpmePcxr\\downloaded_packages\n"
     ]
    }
   ],
   "source": [
    "install.packages(\"dplyr\", dependencies=TRUE)"
   ]
  },
  {
   "cell_type": "code",
   "execution_count": 15,
   "metadata": {},
   "outputs": [
    {
     "name": "stderr",
     "output_type": "stream",
     "text": [
      "Warning message:\n",
      "\"dependency 'foreign' is not available\"also installing the dependencies 'cpp11', 'png', 'jpeg', 'checkmate', 'zoo', 'Rcpp', 'matrixStats', 'RcppArmadillo', 'e1071', 'class', 'KernSmooth', 'systemfonts', 'fontBitstreamVera', 'fontLiberation', 'Matrix', 'farver', 'labeling', 'viridisLite', 'survival', 'Formula', 'latticeExtra', 'cluster', 'nnet', 'gridExtra', 'data.table', 'htmlTable', 'viridis', 'sp', 'mvtnorm', 'TH.data', 'sandwich', 'codetools', 'colorspace', 'SparseM', 'MatrixModels', 'conquer', 'classInt', 'units', 'gdtools', 'diffobj', 'fontquiver', 'freetypeharfbuzz', 'gtable', 'isoband', 'MASS', 'mgcv', 'rlang', 'scales', 'ggplot2movies', 'hexbin', 'Hmisc', 'lattice', 'mapproj', 'maps', 'maptools', 'multcomp', 'munsell', 'nlme', 'quantreg', 'RColorBrewer', 'rgeos', 'rpart', 'sf', 'svglite', 'vdiffr'\n",
      "\n"
     ]
    },
    {
     "name": "stdout",
     "output_type": "stream",
     "text": [
      "\n",
      "  There is a binary version available but the source version is later:\n",
      "                   binary      source needs_compilation\n",
      "RcppArmadillo 0.9.900.2.0 0.9.900.3.0              TRUE\n",
      "\n",
      "  Binaries will be installed\n",
      "package 'cpp11' successfully unpacked and MD5 sums checked\n",
      "package 'png' successfully unpacked and MD5 sums checked\n",
      "package 'jpeg' successfully unpacked and MD5 sums checked\n",
      "package 'checkmate' successfully unpacked and MD5 sums checked\n",
      "package 'zoo' successfully unpacked and MD5 sums checked\n",
      "package 'Rcpp' successfully unpacked and MD5 sums checked\n"
     ]
    },
    {
     "name": "stderr",
     "output_type": "stream",
     "text": [
      "Warning message:\n",
      "\"cannot remove prior installation of package 'Rcpp'\"Warning message in file.copy(savedcopy, lib, recursive = TRUE):\n",
      "\"D:\\Installation\\Anaconda3\\envs\\r\\lib\\R\\library\\00LOCK\\Rcpp\\libs\\x64\\Rcpp.dll를 D:\\Installation\\Anaconda3\\envs\\r\\lib\\R\\library\\Rcpp\\libs\\x64\\Rcpp.dll로 복사하는데 문제가 발생했습니다: Permission denied\"Warning message:\n",
      "\"restored 'Rcpp'\""
     ]
    },
    {
     "name": "stdout",
     "output_type": "stream",
     "text": [
      "package 'matrixStats' successfully unpacked and MD5 sums checked\n",
      "package 'RcppArmadillo' successfully unpacked and MD5 sums checked\n",
      "package 'e1071' successfully unpacked and MD5 sums checked\n",
      "package 'class' successfully unpacked and MD5 sums checked\n",
      "package 'KernSmooth' successfully unpacked and MD5 sums checked\n",
      "package 'systemfonts' successfully unpacked and MD5 sums checked\n",
      "package 'fontBitstreamVera' successfully unpacked and MD5 sums checked\n",
      "package 'fontLiberation' successfully unpacked and MD5 sums checked\n",
      "package 'Matrix' successfully unpacked and MD5 sums checked\n",
      "package 'farver' successfully unpacked and MD5 sums checked\n",
      "package 'labeling' successfully unpacked and MD5 sums checked\n",
      "package 'viridisLite' successfully unpacked and MD5 sums checked\n",
      "package 'survival' successfully unpacked and MD5 sums checked\n",
      "package 'Formula' successfully unpacked and MD5 sums checked\n",
      "package 'latticeExtra' successfully unpacked and MD5 sums checked\n",
      "package 'cluster' successfully unpacked and MD5 sums checked\n",
      "package 'nnet' successfully unpacked and MD5 sums checked\n",
      "package 'gridExtra' successfully unpacked and MD5 sums checked\n",
      "package 'data.table' successfully unpacked and MD5 sums checked\n",
      "package 'htmlTable' successfully unpacked and MD5 sums checked\n",
      "package 'viridis' successfully unpacked and MD5 sums checked\n",
      "package 'sp' successfully unpacked and MD5 sums checked\n",
      "package 'mvtnorm' successfully unpacked and MD5 sums checked\n",
      "package 'TH.data' successfully unpacked and MD5 sums checked\n",
      "package 'sandwich' successfully unpacked and MD5 sums checked\n",
      "package 'codetools' successfully unpacked and MD5 sums checked\n",
      "package 'colorspace' successfully unpacked and MD5 sums checked\n",
      "package 'SparseM' successfully unpacked and MD5 sums checked\n",
      "package 'MatrixModels' successfully unpacked and MD5 sums checked\n",
      "package 'conquer' successfully unpacked and MD5 sums checked\n",
      "package 'classInt' successfully unpacked and MD5 sums checked\n",
      "package 'units' successfully unpacked and MD5 sums checked\n",
      "package 'gdtools' successfully unpacked and MD5 sums checked\n",
      "package 'diffobj' successfully unpacked and MD5 sums checked\n",
      "package 'fontquiver' successfully unpacked and MD5 sums checked\n",
      "package 'freetypeharfbuzz' successfully unpacked and MD5 sums checked\n",
      "package 'gtable' successfully unpacked and MD5 sums checked\n",
      "package 'isoband' successfully unpacked and MD5 sums checked\n",
      "package 'MASS' successfully unpacked and MD5 sums checked\n",
      "package 'mgcv' successfully unpacked and MD5 sums checked\n",
      "package 'rlang' successfully unpacked and MD5 sums checked\n"
     ]
    },
    {
     "name": "stderr",
     "output_type": "stream",
     "text": [
      "Warning message:\n",
      "\"cannot remove prior installation of package 'rlang'\"Warning message in file.copy(savedcopy, lib, recursive = TRUE):\n",
      "\"D:\\Installation\\Anaconda3\\envs\\r\\lib\\R\\library\\00LOCK\\rlang\\libs\\x64\\rlang.dll를 D:\\Installation\\Anaconda3\\envs\\r\\lib\\R\\library\\rlang\\libs\\x64\\rlang.dll로 복사하는데 문제가 발생했습니다: Permission denied\"Warning message:\n",
      "\"restored 'rlang'\""
     ]
    },
    {
     "name": "stdout",
     "output_type": "stream",
     "text": [
      "package 'scales' successfully unpacked and MD5 sums checked\n",
      "package 'ggplot2movies' successfully unpacked and MD5 sums checked\n",
      "package 'hexbin' successfully unpacked and MD5 sums checked\n",
      "package 'Hmisc' successfully unpacked and MD5 sums checked\n",
      "package 'lattice' successfully unpacked and MD5 sums checked\n",
      "package 'mapproj' successfully unpacked and MD5 sums checked\n",
      "package 'maps' successfully unpacked and MD5 sums checked\n",
      "package 'maptools' successfully unpacked and MD5 sums checked\n",
      "package 'multcomp' successfully unpacked and MD5 sums checked\n",
      "package 'munsell' successfully unpacked and MD5 sums checked\n",
      "package 'nlme' successfully unpacked and MD5 sums checked\n",
      "package 'quantreg' successfully unpacked and MD5 sums checked\n",
      "package 'RColorBrewer' successfully unpacked and MD5 sums checked\n",
      "package 'rgeos' successfully unpacked and MD5 sums checked\n",
      "package 'rpart' successfully unpacked and MD5 sums checked\n",
      "package 'sf' successfully unpacked and MD5 sums checked\n",
      "package 'svglite' successfully unpacked and MD5 sums checked\n",
      "package 'vdiffr' successfully unpacked and MD5 sums checked\n",
      "package 'ggplot2' successfully unpacked and MD5 sums checked\n",
      "\n",
      "The downloaded binary packages are in\n",
      "\tC:\\Users\\LG\\AppData\\Local\\Temp\\RtmpmePcxr\\downloaded_packages\n"
     ]
    }
   ],
   "source": [
    "install.packages(\"ggplot2\", dependencies=TRUE)"
   ]
  },
  {
   "cell_type": "code",
   "execution_count": 17,
   "metadata": {},
   "outputs": [
    {
     "name": "stderr",
     "output_type": "stream",
     "text": [
      "also installing the dependency 'sm'\n",
      "\n"
     ]
    },
    {
     "name": "stdout",
     "output_type": "stream",
     "text": [
      "package 'sm' successfully unpacked and MD5 sums checked\n",
      "package 'vioplot' successfully unpacked and MD5 sums checked\n",
      "\n",
      "The downloaded binary packages are in\n",
      "\tC:\\Users\\LG\\AppData\\Local\\Temp\\RtmpmePcxr\\downloaded_packages\n"
     ]
    }
   ],
   "source": [
    "install.packages(\"vioplot\", dependencies=TRUE)"
   ]
  },
  {
   "cell_type": "code",
   "execution_count": 19,
   "metadata": {},
   "outputs": [
    {
     "name": "stderr",
     "output_type": "stream",
     "text": [
      "also installing the dependency 'R2HTML'\n",
      "\n"
     ]
    },
    {
     "name": "stdout",
     "output_type": "stream",
     "text": [
      "package 'R2HTML' successfully unpacked and MD5 sums checked\n",
      "package 'ascii' successfully unpacked and MD5 sums checked\n",
      "\n",
      "The downloaded binary packages are in\n",
      "\tC:\\Users\\LG\\AppData\\Local\\Temp\\RtmpmePcxr\\downloaded_packages\n"
     ]
    }
   ],
   "source": [
    "install.packages(\"ascii\", dependencies=TRUE)"
   ]
  },
  {
   "cell_type": "code",
   "execution_count": 20,
   "metadata": {},
   "outputs": [
    {
     "name": "stdout",
     "output_type": "stream",
     "text": [
      "package 'corrplot' successfully unpacked and MD5 sums checked\n",
      "\n",
      "The downloaded binary packages are in\n",
      "\tC:\\Users\\LG\\AppData\\Local\\Temp\\RtmpmePcxr\\downloaded_packages\n"
     ]
    }
   ],
   "source": [
    "install.packages(\"corrplot\", dependencies=TRUE)"
   ]
  },
  {
   "cell_type": "code",
   "execution_count": 21,
   "metadata": {},
   "outputs": [
    {
     "name": "stdout",
     "output_type": "stream",
     "text": [
      "package 'descr' successfully unpacked and MD5 sums checked\n",
      "\n",
      "The downloaded binary packages are in\n",
      "\tC:\\Users\\LG\\AppData\\Local\\Temp\\RtmpmePcxr\\downloaded_packages\n"
     ]
    }
   ],
   "source": [
    "install.packages(\"descr\", dependencies=TRUE)"
   ]
  },
  {
   "cell_type": "code",
   "execution_count": 22,
   "metadata": {},
   "outputs": [
    {
     "name": "stderr",
     "output_type": "stream",
     "text": [
      "Warning message:\n",
      "\"package 'ascii' was built under R version 3.6.3\"\n",
      "Attaching package: 'ascii'\n",
      "\n",
      "The following object is masked from 'package:tidyr':\n",
      "\n",
      "    expand\n",
      "\n",
      "Warning message:\n",
      "\"package 'corrplot' was built under R version 3.6.3\"corrplot 0.84 loaded\n",
      "Warning message:\n",
      "\"package 'descr' was built under R version 3.6.3\"Warning message in dir.create(file.path(PSDS_PATH, \"figures\")):\n",
      "\"디렉토리 'C:\\Users\\LG\\Documents\\statistics-for-data-scientists\\figures'를 만들 수 없습니다. 그 이유는 'No such file or directory'입니다. \"Warning message in file(file, \"rt\"):\n",
      "\"파일 'C:\\Users\\LG\\Documents/statistics-for-data-scientists/data/state.csv'를 여는데 실패했습니다: No such file or directory\""
     ]
    },
    {
     "ename": "ERROR",
     "evalue": "Error in file(file, \"rt\"): 커넥션을 열 수 없습니다\n",
     "output_type": "error",
     "traceback": [
      "Error in file(file, \"rt\"): 커넥션을 열 수 없습니다\nTraceback:\n",
      "1. read.csv(file.path(PSDS_PATH, \"data\", \"state.csv\"))",
      "2. read.table(file = file, header = header, sep = sep, quote = quote, \n .     dec = dec, fill = fill, comment.char = comment.char, ...)",
      "3. file(file, \"rt\")"
     ]
    }
   ],
   "source": [
    "# packages needed for chapter 1\n",
    "library(dplyr)\n",
    "library(tidyr)\n",
    "library(ggplot2)\n",
    "library(vioplot)\n",
    "library(ascii)\n",
    "library(corrplot)\n",
    "library(descr)\n",
    "\n",
    "# Import the datasets needed for chapter 1\n",
    "PSDS_PATH <- file.path('~', 'statistics-for-data-scientists')\n",
    "dir.create(file.path(PSDS_PATH, 'figures'))\n",
    "\n",
    "state <- read.csv(file.path(PSDS_PATH, 'data', 'state.csv'))\n",
    "dfw <- read.csv(file.path(PSDS_PATH, 'data', 'dfw_airline.csv'))\n",
    "sp500_px <- read.csv(file.path(PSDS_PATH, 'data', 'sp500_px.csv'))\n",
    "sp500_sym <- read.csv(file.path(PSDS_PATH, 'data', 'sp500_sym.csv'), stringsAsFactors = FALSE)\n",
    "kc_tax <- read.csv(file.path(PSDS_PATH, 'data', 'kc_tax.csv'))\n",
    "lc_loans <- read.csv(file.path(PSDS_PATH, 'data', 'lc_loans.csv'))\n",
    "airline_stats <- read.csv(file.path(PSDS_PATH, 'data', 'airline_stats.csv'), stringsAsFactors = FALSE)\n",
    "airline_stats$airline <- ordered(airline_stats$airline, levels=c('Alaska', 'American', 'Jet Blue', 'Delta', 'United', 'Southwest'))\n",
    "## Code to create state table\n",
    "state_asc <- state\n",
    "state_asc[[\"Population\"]] <- formatC(state_asc[[\"Population\"]], format=\"d\", digits=0, big.mark=\",\")\n",
    "ascii(state_asc[1:8,], digits=c(0, 0,1), align=c(\"l\", \"l\", \"r\", \"r\"), caption=\"A few rows of the +data.frame state+ of population and murder rate by state.\")\n",
    "\n",
    "## Code snippet 1.1\n",
    "mean(state[[\"Population\"]])\n",
    "mean(state[[\"Population\"]], trim=0.1)\n",
    "median(state[[\"Population\"]])\n",
    "\n",
    "## Code snippet 1.2\n",
    "mean(state[[\"Murder.Rate\"]])\n",
    "library(\"matrixStats\")\n",
    "weighted.mean(state[[\"Murder.Rate\"]], w=state[[\"Population\"]])\n",
    "\n",
    "## Code snippet 1.3\n",
    "sd(state[[\"Population\"]])\n",
    "IQR(state[[\"Population\"]])\n",
    "mad(state[[\"Population\"]])\n",
    "\n",
    "## Code snippet 1.4\n",
    "quantile(state[[\"Murder.Rate\"]], p=c(.05, .25, .5, .75, .95))\n",
    "\n",
    "## Code to create PercentileTable\n",
    "ascii(\n",
    "  quantile(state[[\"Murder.Rate\"]], p=c(.05, .25, .5, .75, .95)),\n",
    "  include.rownames=FALSE, include.colnames=TRUE, digits=rep(2,5), align=rep(\"r\", 5), \n",
    "  caption=\"Percentiles of murder rate by state.\")\n",
    "\n",
    "## Code snippet 1.5\n",
    "boxplot(state[[\"Population\"]]/1000000, ylab=\"Population (millions)\")\n",
    "\n",
    "## Code for Figure 2\n",
    "png(filename=file.path(PSDS_PATH, \"figures\", \"psds_0102.png\"), width = 3, height=4, units='in', res=300)\n",
    "par(mar=c(0,4,0,0)+.1)\n",
    "boxplot(state[[\"Population\"]]/1000000, ylab=\"Population (millions)\")\n",
    "dev.off()\n",
    "\n",
    "## Code snippet 1.6\n",
    "breaks <- seq(from=min(state[[\"Population\"]]), to=max(state[[\"Population\"]]), length=11)\n",
    "pop_freq <- cut(state[[\"Population\"]], breaks=breaks, right=TRUE, include.lowest = TRUE)\n",
    "state['PopFreq'] <- pop_freq\n",
    "table(pop_freq)\n",
    "\n",
    "## Code for FreqTable\n",
    "state_abb <- state %>%\n",
    "  arrange(Population) %>%\n",
    "  group_by(PopFreq) %>%\n",
    "  summarize(state = paste(Abbreviation, collapse=\",\"), .drop=FALSE) %>%\n",
    "  complete(PopFreq, fill=list(state='')) %>%\n",
    "  select(state) \n",
    "\n",
    "state_abb <- unlist(state_abb)\n",
    "\n",
    "lower_br <- formatC(breaks[1:10], format=\"d\", digits=0, big.mark=\",\")\n",
    "upper_br <- formatC(c(breaks[2:10]-1, breaks[11]), format=\"d\", digits=0, big.mark=\",\")\n",
    "\n",
    "pop_table <- data.frame(\"BinNumber\"=1:10,\n",
    "                        \"BinRange\"=paste(lower_br, upper_br, sep=\"-\"),\n",
    "                        \"Count\"=as.numeric(table(pop_freq)),\n",
    "                        \"States\"=state_abb)\n",
    "ascii(pop_table, include.rownames=FALSE, digits=c(0, 0, 0, 0), align=c(\"l\", \"r\", \"r\", \"l\"), \n",
    "      caption=\"A frequency table of population by state.\")\n",
    "\n",
    "## Code snippet 1.7\n",
    "hist(state[[\"Population\"]], breaks=breaks)\n",
    "\n",
    "## Code for Figure 3\n",
    "png(filename=file.path(PSDS_PATH, \"figures\", \"psds_0103.png\"),  width = 4, height=4, units='in', res=300)\n",
    "par(mar=c(4,4,0,0)+.1)\n",
    "pop_hist <- hist(state[[\"Population\"]], breaks=breaks,\n",
    "                 xlab=\"Population\", main=\"\")\n",
    "dev.off()\n",
    "\n",
    "## Code snippet 1.8\n",
    "hist(state[[\"Murder.Rate\"]], freq=FALSE )\n",
    "lines(density(state[[\"Murder.Rate\"]]), lwd=3, col=\"blue\")\n",
    "\n",
    "## Code for Figure 4\n",
    "png(filename=file.path(PSDS_PATH, \"figures\", \"psds_0104.png\"),  width = 4, height=4, units='in', res=300)\n",
    "par(mar=c(4,4,0,0)+.1)\n",
    "hist(state[[\"Murder.Rate\"]], freq=FALSE, xlab=\"Murder Rate (per 100,000)\", main=\"\" )\n",
    "lines(density(state[[\"Murder.Rate\"]]), lwd=3, col=\"blue\")\n",
    "dev.off()\n",
    "\n",
    "## Code for AirportDelays\n",
    "ascii(\n",
    "  100*as.matrix(dfw/sum(dfw)),\n",
    "  include.rownames=FALSE, include.colnames=TRUE, digits=rep(2,5), align=rep(\"r\", 5), \n",
    "  caption=\"Percentage of delays by cause at Dallas-Ft. Worth airport.\")\n",
    "\n",
    "\n",
    "## Code for figure 5\n",
    "png(filename=file.path(PSDS_PATH, \"figures\", \"psds_0105.png\"),  width = 4, height=4, units='in', res=300)\n",
    "par(mar=c(4, 4, 0, 1) + .1)\n",
    "barplot(as.matrix(dfw)/6, cex.axis = 0.8, cex.names = 0.7)\n",
    "dev.off()\n",
    "\n",
    "\n",
    "## Code for CorrTable (Table 1.7)\n",
    "telecom <- sp500_px[, sp500_sym[sp500_sym$sector==\"telecommunications_services\", 'symbol']]\n",
    "telecom <- telecom[row.names(telecom)>\"2012-07-01\", ]\n",
    "telecom_cor <- cor(telecom)\n",
    "ascii(telecom_cor, digits=c( 3,3,3,3,3), align=c(\"l\", \"r\", \"r\", \"r\", \"r\", \"r\"), caption=\"Correlation between telecommunication stock returns.\",\n",
    "      include.rownames = TRUE, include.colnames = TRUE)\n",
    "\n",
    "## Code snippet 1.10\n",
    "etfs <- sp500_px[row.names(sp500_px)>\"2012-07-01\", \n",
    "                 sp500_sym[sp500_sym$sector==\"etf\", 'symbol']]\n",
    "corrplot(cor(etfs), method = \"ellipse\")\n",
    "\n",
    "## Code for figure 6\n",
    "png(filename=file.path(PSDS_PATH, \"figures\", \"psds_0106.png\"), width = 4, height=4, units='in', res=300)\n",
    "etfs <- sp500_px[row.names(sp500_px)>\"2012-07-01\", sp500_sym[sp500_sym$sector==\"etf\", 'symbol']]\n",
    "library(corrplot)\n",
    "corrplot(cor(etfs), method = \"ellipse\")\n",
    "dev.off()\n",
    "\n",
    "\n",
    "## Code snippet 1.11\n",
    "plot(telecom$T, telecom$VZ, xlab=\"T\", ylab=\"VZ\")\n",
    "\n",
    "## Code for Figure 7\n",
    "png(filename=file.path(PSDS_PATH, \"figures\", \"psds_0107.png\"),  width = 4, height=4, units='in', res=300)\n",
    "par(mar=c(4,4,0,1)+.1)\n",
    "plot(telecom$T, telecom$VZ, xlab=\"T\", ylab=\"VZ\", cex=.8)\n",
    "abline(h=0, v=0, col=\"grey\")\n",
    "dev.off()\n",
    "\n",
    "\n",
    "\n",
    "## Code snippet 1.12\n",
    "kc_tax0 <- subset(kc_tax, TaxAssessedValue < 750000 & SqFtTotLiving>100 &\n",
    "                  SqFtTotLiving<3500)\n",
    "nrow(kc_tax0)\n",
    "\n",
    "## Code snippet 1.13\n",
    "ggplot(kc_tax0, (aes(x=SqFtTotLiving, y=TaxAssessedValue))) + \n",
    "  stat_binhex(colour=\"white\") + \n",
    "  theme_bw() + \n",
    "  scale_fill_gradient(low=\"white\", high=\"black\") +\n",
    "  labs(x=\"Finished Square Feet\", y=\"Tax Assessed Value\")\n",
    "\n",
    "## Code for figure 8\n",
    "png(filename=file.path(PSDS_PATH, \"figures\", \"psds_0108.png\"),  width = 4, height=4, units='in', res=300)\n",
    "ggplot(kc_tax0, (aes(x=SqFtTotLiving, y=TaxAssessedValue))) + \n",
    "  stat_binhex(colour=\"white\") + \n",
    "  theme_bw() + \n",
    "  scale_fill_gradient(low=\"white\", high=\"black\") +\n",
    "  labs(x=\"Finished Square Feet\", y=\"Tax Assessed Value\")\n",
    "dev.off()\n",
    "\n",
    "\n",
    "## Code snippet 1.14\n",
    "ggplot(kc_tax0, aes(SqFtTotLiving, TaxAssessedValue)) +\n",
    "  theme_bw() + \n",
    "  geom_point( alpha=0.1) + \n",
    "  geom_density2d(colour=\"white\") + \n",
    "  labs(x=\"Finished Square Feet\", y=\"Tax Assessed Value\")\n",
    "\n",
    "## Code for figure 9\n",
    "\n",
    "png(filename=file.path(PSDS_PATH, \"figures\", \"psds_0109.png\"),  width = 4, height=4, units='in', res=300)\n",
    "ggplot(kc_tax0, aes(SqFtTotLiving, TaxAssessedValue)) +\n",
    "  theme_bw() + \n",
    "  geom_point(colour=\"blue\", alpha=0.1) + \n",
    "  geom_density2d(colour=\"white\") + \n",
    "  labs(x=\"Finished Square Feet\", y=\"Tax Assessed Value\")\n",
    "dev.off()\n",
    "\n",
    "\n",
    "## Code snippet 1.15\n",
    "\n",
    "## Code for CrossTabs\n",
    "x_tab <- CrossTable(lc_loans$grade, lc_loans$status, \n",
    "                    prop.c=FALSE, prop.chisq=FALSE, prop.t=FALSE)\n",
    "\n",
    "tots <- cbind(row.names(x_tab$tab), format(cbind(x_tab$tab, x_tab$rs)))\n",
    "props <- cbind(\"\", format(cbind(x_tab$prop.row, x_tab$rs/x_tab$gt), digits=1))\n",
    "c_tot <- c(\"Total\", format(c(x_tab$cs, x_tab$gt)))\n",
    "\n",
    "asc_tab <- matrix(nrow=nrow(tots)*2+1, ncol=ncol(tots))\n",
    "colnames(asc_tab) <- c(\"Grade\", colnames(x_tab$tab), \"Total\")\n",
    "idx <- seq(1, nrow(asc_tab)-1, by=2)\n",
    "asc_tab[idx,] <- tots\n",
    "asc_tab[idx+1,] <- props\n",
    "asc_tab[nrow(asc_tab), ] <- c_tot\n",
    "\n",
    "ascii(asc_tab,  align=c(\"l\", \"r\", \"r\", \"r\", \"r\"), include.rownames = FALSE, include.colnames = TRUE)\n",
    "\n",
    "\n",
    "#########################################################################################\n",
    "\n",
    "## Code snippet 1.16\n",
    "boxplot(pct_carrier_delay ~ airline, data=airline_stats, ylim=c(0,50))\n",
    "\n",
    "## Code for figure 10\n",
    "png(filename=file.path(PSDS_PATH, \"figures\", \"psds_0110.png\"), width = 4, height=4, units='in', res=300)\n",
    "par(mar=c(4,4,0,0)+.1)\n",
    "boxplot(pct_carrier_delay ~ airline, data=airline_stats, ylim=c(0,50), cex.axis=.6,\n",
    "        ylab=\"Daily % of Delayed Flights\")\n",
    "\n",
    "dev.off()\n",
    "\n",
    "## Code snippet 1.17\n",
    "\n",
    "ggplot(data=airline_stats, aes(airline, pct_carrier_delay))  + \n",
    "  ylim(0, 50) + \n",
    "  geom_violin() +\n",
    "  labs(x=\"\", y=\"Daily % of Delayed Flights\")\n",
    "\n",
    "## Code for figure 11\n",
    "png(filename=file.path(PSDS_PATH, \"figures\", \"psds_0111.png\"), width = 4, height=4, units='in', res=300)\n",
    "\n",
    "ggplot(data=airline_stats, aes(airline, pct_carrier_delay)) + \n",
    "  ylim(0, 50) + \n",
    "  geom_violin(draw_quantiles = c(.25, .5, .75), linetype=2) +\n",
    "  geom_violin(fill=NA, size=1.1) +\n",
    "  theme_bw() + \n",
    "  labs(x=\"\", y=\"% of Delayed Flights\")\n",
    "\n",
    "dev.off()\n",
    "\n",
    "## Code snippet 1.18\n",
    "\n",
    "ggplot(subset(kc_tax0, ZipCode %in% c(98188, 98105, 98108, 98126)),\n",
    "         aes(x=SqFtTotLiving, y=TaxAssessedValue)) + \n",
    "  stat_binhex(colour=\"white\") + \n",
    "  theme_bw() + \n",
    "  scale_fill_gradient( low=\"white\", high=\"black\") +\n",
    "  labs(x=\"Finished Square Feet\", y=\"Tax Assessed Value\") +\n",
    "  facet_wrap(\"ZipCode\")\n",
    "\n",
    "## Code for figure 12\n",
    "png(filename=file.path(PSDS_PATH, \"figures\", \"psds_0112.png\"), width = 5, height=4, units='in', res=300)\n",
    "\n",
    "ggplot(subset(kc_tax0, ZipCode %in% c(98188, 98105, 98108, 98126)),\n",
    "       aes(x=SqFtTotLiving, y=TaxAssessedValue)) + \n",
    "  stat_binhex(colour=\"white\") + \n",
    "  theme_bw() + \n",
    "  scale_fill_gradient( low=\"gray95\", high=\"blue\") +\n",
    "  labs(x=\"Finished Square Feet\", y=\"Tax Assessed Value\") +\n",
    "  facet_wrap(\"ZipCode\")\n",
    "dev.off()\n"
   ]
  },
  {
   "cell_type": "code",
   "execution_count": null,
   "metadata": {},
   "outputs": [],
   "source": []
  }
 ],
 "metadata": {
  "kernelspec": {
   "display_name": "R",
   "language": "R",
   "name": "ir"
  },
  "language_info": {
   "codemirror_mode": "r",
   "file_extension": ".r",
   "mimetype": "text/x-r-source",
   "name": "R",
   "pygments_lexer": "r",
   "version": "3.6.1"
  }
 },
 "nbformat": 4,
 "nbformat_minor": 4
}
